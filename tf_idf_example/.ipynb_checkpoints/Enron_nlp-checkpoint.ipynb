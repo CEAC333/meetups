{
 "cells": [
  {
   "cell_type": "code",
   "execution_count": 1,
   "metadata": {
    "collapsed": false
   },
   "outputs": [],
   "source": [
    "import pandas as pd\n",
    "import matplotlib.pyplot as plt\n",
    "from helpers import *\n",
    "import email\n",
    "from nltk.tokenize.regexp import RegexpTokenizer\n",
    "import itertools\n",
    "import re\n",
    "from nltk.corpus import stopwords\n",
    "import string\n",
    "import nltk\n",
    "from sklearn.feature_extraction.text import TfidfVectorizer\n",
    "from sklearn.metrics.pairwise import linear_kernel"
   ]
  },
  {
   "cell_type": "markdown",
   "metadata": {},
   "source": [
    "## Load the Enron dataset"
   ]
  },
  {
   "cell_type": "code",
   "execution_count": 2,
   "metadata": {
    "collapsed": false
   },
   "outputs": [],
   "source": [
    "emails_df = pd.read_csv('emails.csv')"
   ]
  },
  {
   "cell_type": "code",
   "execution_count": 3,
   "metadata": {
    "collapsed": false
   },
   "outputs": [
    {
     "data": {
      "text/html": [
       "<div>\n",
       "<style>\n",
       "    .dataframe thead tr:only-child th {\n",
       "        text-align: right;\n",
       "    }\n",
       "\n",
       "    .dataframe thead th {\n",
       "        text-align: left;\n",
       "    }\n",
       "\n",
       "    .dataframe tbody tr th {\n",
       "        vertical-align: top;\n",
       "    }\n",
       "</style>\n",
       "<table border=\"1\" class=\"dataframe\">\n",
       "  <thead>\n",
       "    <tr style=\"text-align: right;\">\n",
       "      <th></th>\n",
       "      <th>file</th>\n",
       "      <th>message</th>\n",
       "    </tr>\n",
       "  </thead>\n",
       "  <tbody>\n",
       "    <tr>\n",
       "      <th>0</th>\n",
       "      <td>allen-p/_sent_mail/1.</td>\n",
       "      <td>Message-ID: &lt;18782981.1075855378110.JavaMail.e...</td>\n",
       "    </tr>\n",
       "    <tr>\n",
       "      <th>1</th>\n",
       "      <td>allen-p/_sent_mail/10.</td>\n",
       "      <td>Message-ID: &lt;15464986.1075855378456.JavaMail.e...</td>\n",
       "    </tr>\n",
       "    <tr>\n",
       "      <th>2</th>\n",
       "      <td>allen-p/_sent_mail/100.</td>\n",
       "      <td>Message-ID: &lt;24216240.1075855687451.JavaMail.e...</td>\n",
       "    </tr>\n",
       "    <tr>\n",
       "      <th>3</th>\n",
       "      <td>allen-p/_sent_mail/1000.</td>\n",
       "      <td>Message-ID: &lt;13505866.1075863688222.JavaMail.e...</td>\n",
       "    </tr>\n",
       "    <tr>\n",
       "      <th>4</th>\n",
       "      <td>allen-p/_sent_mail/1001.</td>\n",
       "      <td>Message-ID: &lt;30922949.1075863688243.JavaMail.e...</td>\n",
       "    </tr>\n",
       "  </tbody>\n",
       "</table>\n",
       "</div>"
      ],
      "text/plain": [
       "                       file                                            message\n",
       "0     allen-p/_sent_mail/1.  Message-ID: <18782981.1075855378110.JavaMail.e...\n",
       "1    allen-p/_sent_mail/10.  Message-ID: <15464986.1075855378456.JavaMail.e...\n",
       "2   allen-p/_sent_mail/100.  Message-ID: <24216240.1075855687451.JavaMail.e...\n",
       "3  allen-p/_sent_mail/1000.  Message-ID: <13505866.1075863688222.JavaMail.e...\n",
       "4  allen-p/_sent_mail/1001.  Message-ID: <30922949.1075863688243.JavaMail.e..."
      ]
     },
     "execution_count": 3,
     "metadata": {},
     "output_type": "execute_result"
    }
   ],
   "source": [
    "emails_df.head()"
   ]
  },
  {
   "cell_type": "code",
   "execution_count": 4,
   "metadata": {
    "collapsed": false
   },
   "outputs": [
    {
     "name": "stdout",
     "output_type": "stream",
     "text": [
      "number of documents in the Enron dataset are: 517401 we will take a subset of this.\n"
     ]
    }
   ],
   "source": [
    "print('number of documents in the Enron dataset are:', len(emails_df), 'we will take a subset of this.')"
   ]
  },
  {
   "cell_type": "markdown",
   "metadata": {},
   "source": [
    "## Take a subset of the dataset for exploration"
   ]
  },
  {
   "cell_type": "code",
   "execution_count": 36,
   "metadata": {
    "collapsed": false
   },
   "outputs": [],
   "source": [
    "emails_df_sub = emails_df.sample(5000, random_state=1).reset_index(drop=True)"
   ]
  },
  {
   "cell_type": "code",
   "execution_count": 37,
   "metadata": {
    "collapsed": false
   },
   "outputs": [
    {
     "data": {
      "text/plain": [
       "'Message-ID: <29110382.1075845717882.JavaMail.evans@thyme>\\nDate: Tue, 15 May 2001 11:03:00 -0700 (PDT)\\nFrom: kay.mann@enron.com\\nTo: sheila.tweed@enron.com\\nSubject: Re: Override letter\\nMime-Version: 1.0\\nContent-Type: text/plain; charset=us-ascii\\nContent-Transfer-Encoding: 7bit\\nX-From: Kay Mann\\nX-To: Sheila Tweed\\nX-cc: \\nX-bcc: \\nX-Folder: \\\\Kay_Mann_June2001_1\\\\Notes Folders\\\\All documents\\nX-Origin: MANN-K\\nX-FileName: kmann.nsf\\n\\nAbsolutely.  \\n\\n\\nFrom: Sheila Tweed@ECT on 05/15/2001 06:02 PM\\nTo: Kay Mann/Corp/Enron@ENRON\\ncc:  \\n\\nSubject: Re: Override letter  \\n\\nGood point!  Can Peter start to draft an override letter?\\n\\n\\n\\n\\tKay Mann@ENRON\\n\\t05/15/2001 05:55 PM\\n\\t\\t \\n\\t\\t To: pthompson@akllp.com\\n\\t\\t cc: Sheila Tweed/HOU/ECT@ECT, Roseann Engeldorf/Enron@EnronXGate, Scott \\nDieball/ENRON_DEVELOPMENT@ENRON_DEVELOPMENt, John G \\nRigby/ENRON_DEVELOPMENT@ENRON_DEVELOPMENT\\n\\t\\t Subject: Override letter\\n\\nAs a reminder to all of us, we will need a form override letter to go with \\nthe form turbine contract.  \\n\\nKay\\n\\n\\n\\n'"
      ]
     },
     "execution_count": 37,
     "metadata": {},
     "output_type": "execute_result"
    }
   ],
   "source": [
    "emails_df_sub['message'][1]"
   ]
  },
  {
   "cell_type": "markdown",
   "metadata": {},
   "source": [
    "## Pre-processing the data"
   ]
  },
  {
   "cell_type": "markdown",
   "metadata": {},
   "source": [
    "We would like to parse the message column into the respective columns within it. \n",
    "1. Make a new column for each key in the message column\n",
    "2. Split the email addresses \n",
    "3. Extract user name from file name"
   ]
  },
  {
   "cell_type": "code",
   "execution_count": 38,
   "metadata": {
    "collapsed": false
   },
   "outputs": [],
   "source": [
    "# Parse the emails into a list email objects\n",
    "messages = list(map(email.message_from_string, emails_df_sub['message']))\n",
    "emails_df_sub.drop('message', axis=1, inplace=True)"
   ]
  },
  {
   "cell_type": "code",
   "execution_count": 39,
   "metadata": {
    "collapsed": false
   },
   "outputs": [
    {
     "data": {
      "text/plain": [
       "[('Message-ID', '<17820178.1075846925335.JavaMail.evans@thyme>'),\n",
       " ('Date', 'Tue, 4 Jan 2000 08:20:00 -0800 (PST)'),\n",
       " ('From', 'tana.jones@enron.com'),\n",
       " ('To', 'alicia.goodrow@enron.com'),\n",
       " ('Subject', 'Re: Dinner'),\n",
       " ('Mime-Version', '1.0'),\n",
       " ('Content-Type', 'text/plain; charset=us-ascii'),\n",
       " ('Content-Transfer-Encoding', '7bit'),\n",
       " ('X-From', 'Tana Jones'),\n",
       " ('X-To', 'Alicia Goodrow'),\n",
       " ('X-cc', ''),\n",
       " ('X-bcc', ''),\n",
       " ('X-Folder', '\\\\Tanya_Jones_Dec2000\\\\Notes Folders\\\\All documents'),\n",
       " ('X-Origin', 'JONES-T'),\n",
       " ('X-FileName', 'tjones.nsf')]"
      ]
     },
     "execution_count": 39,
     "metadata": {},
     "output_type": "execute_result"
    }
   ],
   "source": [
    "messages[0].items()"
   ]
  },
  {
   "cell_type": "code",
   "execution_count": 40,
   "metadata": {
    "collapsed": true
   },
   "outputs": [],
   "source": [
    "# Get fields from parsed email objects\n",
    "keys = messages[0].keys()\n",
    "for key in keys:\n",
    "    emails_df_sub[key] = [doc[key] for doc in messages]"
   ]
  },
  {
   "cell_type": "code",
   "execution_count": 41,
   "metadata": {
    "collapsed": true
   },
   "outputs": [],
   "source": [
    "# Parse content from emails\n",
    "emails_df_sub['content'] = list(map(get_text_from_email, messages))"
   ]
  },
  {
   "cell_type": "code",
   "execution_count": 42,
   "metadata": {
    "collapsed": true
   },
   "outputs": [],
   "source": [
    "# Split multiple email addresses\n",
    "emails_df_sub['From'] = emails_df_sub['From'].map(split_email_addresses)\n",
    "emails_df_sub['To'] = emails_df_sub['To'].map(split_email_addresses)"
   ]
  },
  {
   "cell_type": "code",
   "execution_count": 43,
   "metadata": {
    "collapsed": true
   },
   "outputs": [],
   "source": [
    "# Extract the root of 'file' as 'user'\n",
    "emails_df_sub['user'] = emails_df_sub['file'].map(lambda x:x.split('/')[0])\n",
    "del messages"
   ]
  },
  {
   "cell_type": "code",
   "execution_count": 44,
   "metadata": {
    "collapsed": false
   },
   "outputs": [
    {
     "data": {
      "text/html": [
       "<div>\n",
       "<style>\n",
       "    .dataframe thead tr:only-child th {\n",
       "        text-align: right;\n",
       "    }\n",
       "\n",
       "    .dataframe thead th {\n",
       "        text-align: left;\n",
       "    }\n",
       "\n",
       "    .dataframe tbody tr th {\n",
       "        vertical-align: top;\n",
       "    }\n",
       "</style>\n",
       "<table border=\"1\" class=\"dataframe\">\n",
       "  <thead>\n",
       "    <tr style=\"text-align: right;\">\n",
       "      <th></th>\n",
       "      <th>file</th>\n",
       "      <th>Message-ID</th>\n",
       "      <th>Date</th>\n",
       "      <th>From</th>\n",
       "      <th>To</th>\n",
       "      <th>Subject</th>\n",
       "      <th>Mime-Version</th>\n",
       "      <th>Content-Type</th>\n",
       "      <th>Content-Transfer-Encoding</th>\n",
       "      <th>X-From</th>\n",
       "      <th>X-To</th>\n",
       "      <th>X-cc</th>\n",
       "      <th>X-bcc</th>\n",
       "      <th>X-Folder</th>\n",
       "      <th>X-Origin</th>\n",
       "      <th>X-FileName</th>\n",
       "      <th>content</th>\n",
       "      <th>user</th>\n",
       "    </tr>\n",
       "  </thead>\n",
       "  <tbody>\n",
       "    <tr>\n",
       "      <th>0</th>\n",
       "      <td>jones-t/all_documents/634.</td>\n",
       "      <td>&lt;17820178.1075846925335.JavaMail.evans@thyme&gt;</td>\n",
       "      <td>Tue, 4 Jan 2000 08:20:00 -0800 (PST)</td>\n",
       "      <td>(tana.jones@enron.com)</td>\n",
       "      <td>(alicia.goodrow@enron.com)</td>\n",
       "      <td>Re: Dinner</td>\n",
       "      <td>1.0</td>\n",
       "      <td>text/plain; charset=us-ascii</td>\n",
       "      <td>7bit</td>\n",
       "      <td>Tana Jones</td>\n",
       "      <td>Alicia Goodrow</td>\n",
       "      <td></td>\n",
       "      <td></td>\n",
       "      <td>\\Tanya_Jones_Dec2000\\Notes Folders\\All documents</td>\n",
       "      <td>JONES-T</td>\n",
       "      <td>tjones.nsf</td>\n",
       "      <td>It would be nice if you could be at my dinner,...</td>\n",
       "      <td>jones-t</td>\n",
       "    </tr>\n",
       "    <tr>\n",
       "      <th>1</th>\n",
       "      <td>mann-k/all_documents/5690.</td>\n",
       "      <td>&lt;29110382.1075845717882.JavaMail.evans@thyme&gt;</td>\n",
       "      <td>Tue, 15 May 2001 11:03:00 -0700 (PDT)</td>\n",
       "      <td>(kay.mann@enron.com)</td>\n",
       "      <td>(sheila.tweed@enron.com)</td>\n",
       "      <td>Re: Override letter</td>\n",
       "      <td>1.0</td>\n",
       "      <td>text/plain; charset=us-ascii</td>\n",
       "      <td>7bit</td>\n",
       "      <td>Kay Mann</td>\n",
       "      <td>Sheila Tweed</td>\n",
       "      <td></td>\n",
       "      <td></td>\n",
       "      <td>\\Kay_Mann_June2001_1\\Notes Folders\\All documents</td>\n",
       "      <td>MANN-K</td>\n",
       "      <td>kmann.nsf</td>\n",
       "      <td>Absolutely.  \\n\\n\\nFrom: Sheila Tweed@ECT on 0...</td>\n",
       "      <td>mann-k</td>\n",
       "    </tr>\n",
       "    <tr>\n",
       "      <th>2</th>\n",
       "      <td>dasovich-j/sent/423.</td>\n",
       "      <td>&lt;6812040.1075843194135.JavaMail.evans@thyme&gt;</td>\n",
       "      <td>Thu, 28 Sep 2000 08:59:00 -0700 (PDT)</td>\n",
       "      <td>(jeff.dasovich@enron.com)</td>\n",
       "      <td>(christine.piesco@oracle.com)</td>\n",
       "      <td>Teams</td>\n",
       "      <td>1.0</td>\n",
       "      <td>text/plain; charset=us-ascii</td>\n",
       "      <td>7bit</td>\n",
       "      <td>Jeff Dasovich</td>\n",
       "      <td>Christine.Piesco@oracle.com</td>\n",
       "      <td></td>\n",
       "      <td></td>\n",
       "      <td>\\Jeff_Dasovich_Dec2000\\Notes Folders\\Sent</td>\n",
       "      <td>DASOVICH-J</td>\n",
       "      <td>jdasovic.nsf</td>\n",
       "      <td>Christine:\\n\\nMy apologies.  My schedule melte...</td>\n",
       "      <td>dasovich-j</td>\n",
       "    </tr>\n",
       "    <tr>\n",
       "      <th>3</th>\n",
       "      <td>kaminski-v/var/63.</td>\n",
       "      <td>&lt;21547648.1075856642126.JavaMail.evans@thyme&gt;</td>\n",
       "      <td>Mon, 9 Oct 2000 01:23:00 -0700 (PDT)</td>\n",
       "      <td>(tanya.tamarchenko@enron.com)</td>\n",
       "      <td>(vince.kaminski@enron.com)</td>\n",
       "      <td>Re: FYI: UK Var issues</td>\n",
       "      <td>1.0</td>\n",
       "      <td>text/plain; charset=us-ascii</td>\n",
       "      <td>7bit</td>\n",
       "      <td>Tanya Tamarchenko</td>\n",
       "      <td>Vince J Kaminski</td>\n",
       "      <td></td>\n",
       "      <td></td>\n",
       "      <td>\\Vincent_Kaminski_Jun2001_5\\Notes Folders\\Var</td>\n",
       "      <td>Kaminski-V</td>\n",
       "      <td>vkamins.nsf</td>\n",
       "      <td>Vince, \\nUK VAR breached the limit last week.\\...</td>\n",
       "      <td>kaminski-v</td>\n",
       "    </tr>\n",
       "    <tr>\n",
       "      <th>4</th>\n",
       "      <td>mann-k/_sent_mail/3208.</td>\n",
       "      <td>&lt;12684200.1075846107179.JavaMail.evans@thyme&gt;</td>\n",
       "      <td>Fri, 13 Oct 2000 01:50:00 -0700 (PDT)</td>\n",
       "      <td>(kay.mann@enron.com)</td>\n",
       "      <td>(lisa.bills@enron.com, ben.jacoby@enron.com)</td>\n",
       "      <td>Change Order #5--Pleasanton Transformer</td>\n",
       "      <td>1.0</td>\n",
       "      <td>text/plain; charset=us-ascii</td>\n",
       "      <td>7bit</td>\n",
       "      <td>Kay Mann</td>\n",
       "      <td>Lisa Bills, Ben Jacoby</td>\n",
       "      <td></td>\n",
       "      <td></td>\n",
       "      <td>\\Kay_Mann_June2001_4\\Notes Folders\\'sent mail</td>\n",
       "      <td>MANN-K</td>\n",
       "      <td>kmann.nsf</td>\n",
       "      <td>Any problems/comments?\\n----------------------...</td>\n",
       "      <td>mann-k</td>\n",
       "    </tr>\n",
       "  </tbody>\n",
       "</table>\n",
       "</div>"
      ],
      "text/plain": [
       "                         file                                     Message-ID  \\\n",
       "0  jones-t/all_documents/634.  <17820178.1075846925335.JavaMail.evans@thyme>   \n",
       "1  mann-k/all_documents/5690.  <29110382.1075845717882.JavaMail.evans@thyme>   \n",
       "2        dasovich-j/sent/423.   <6812040.1075843194135.JavaMail.evans@thyme>   \n",
       "3          kaminski-v/var/63.  <21547648.1075856642126.JavaMail.evans@thyme>   \n",
       "4     mann-k/_sent_mail/3208.  <12684200.1075846107179.JavaMail.evans@thyme>   \n",
       "\n",
       "                                    Date                           From  \\\n",
       "0   Tue, 4 Jan 2000 08:20:00 -0800 (PST)         (tana.jones@enron.com)   \n",
       "1  Tue, 15 May 2001 11:03:00 -0700 (PDT)           (kay.mann@enron.com)   \n",
       "2  Thu, 28 Sep 2000 08:59:00 -0700 (PDT)      (jeff.dasovich@enron.com)   \n",
       "3   Mon, 9 Oct 2000 01:23:00 -0700 (PDT)  (tanya.tamarchenko@enron.com)   \n",
       "4  Fri, 13 Oct 2000 01:50:00 -0700 (PDT)           (kay.mann@enron.com)   \n",
       "\n",
       "                                             To  \\\n",
       "0                    (alicia.goodrow@enron.com)   \n",
       "1                      (sheila.tweed@enron.com)   \n",
       "2                 (christine.piesco@oracle.com)   \n",
       "3                    (vince.kaminski@enron.com)   \n",
       "4  (lisa.bills@enron.com, ben.jacoby@enron.com)   \n",
       "\n",
       "                                   Subject Mime-Version  \\\n",
       "0                               Re: Dinner          1.0   \n",
       "1                      Re: Override letter          1.0   \n",
       "2                                    Teams          1.0   \n",
       "3                   Re: FYI: UK Var issues          1.0   \n",
       "4  Change Order #5--Pleasanton Transformer          1.0   \n",
       "\n",
       "                   Content-Type Content-Transfer-Encoding             X-From  \\\n",
       "0  text/plain; charset=us-ascii                      7bit         Tana Jones   \n",
       "1  text/plain; charset=us-ascii                      7bit           Kay Mann   \n",
       "2  text/plain; charset=us-ascii                      7bit      Jeff Dasovich   \n",
       "3  text/plain; charset=us-ascii                      7bit  Tanya Tamarchenko   \n",
       "4  text/plain; charset=us-ascii                      7bit           Kay Mann   \n",
       "\n",
       "                          X-To X-cc X-bcc  \\\n",
       "0               Alicia Goodrow              \n",
       "1                 Sheila Tweed              \n",
       "2  Christine.Piesco@oracle.com              \n",
       "3             Vince J Kaminski              \n",
       "4       Lisa Bills, Ben Jacoby              \n",
       "\n",
       "                                           X-Folder    X-Origin    X-FileName  \\\n",
       "0  \\Tanya_Jones_Dec2000\\Notes Folders\\All documents     JONES-T    tjones.nsf   \n",
       "1  \\Kay_Mann_June2001_1\\Notes Folders\\All documents      MANN-K     kmann.nsf   \n",
       "2         \\Jeff_Dasovich_Dec2000\\Notes Folders\\Sent  DASOVICH-J  jdasovic.nsf   \n",
       "3     \\Vincent_Kaminski_Jun2001_5\\Notes Folders\\Var  Kaminski-V   vkamins.nsf   \n",
       "4     \\Kay_Mann_June2001_4\\Notes Folders\\'sent mail      MANN-K     kmann.nsf   \n",
       "\n",
       "                                             content        user  \n",
       "0  It would be nice if you could be at my dinner,...     jones-t  \n",
       "1  Absolutely.  \\n\\n\\nFrom: Sheila Tweed@ECT on 0...      mann-k  \n",
       "2  Christine:\\n\\nMy apologies.  My schedule melte...  dasovich-j  \n",
       "3  Vince, \\nUK VAR breached the limit last week.\\...  kaminski-v  \n",
       "4  Any problems/comments?\\n----------------------...      mann-k  "
      ]
     },
     "execution_count": 44,
     "metadata": {},
     "output_type": "execute_result"
    }
   ],
   "source": [
    "emails_df_sub.head()"
   ]
  },
  {
   "cell_type": "code",
   "execution_count": 45,
   "metadata": {
    "collapsed": false
   },
   "outputs": [
    {
     "name": "stdout",
     "output_type": "stream",
     "text": [
      "shape of the dataframe: (5000, 18)\n",
      "file 5000\n",
      "Message-ID 5000\n",
      "Date 4891\n",
      "From 1666\n",
      "To 2864\n",
      "Subject 4465\n",
      "Mime-Version 1\n",
      "Content-Type 2\n",
      "Content-Transfer-Encoding 2\n",
      "X-From 1930\n",
      "X-To 3313\n",
      "X-cc 1035\n",
      "X-bcc 4\n",
      "X-Folder 1378\n",
      "X-Origin 243\n",
      "X-FileName 376\n",
      "content 4924\n",
      "user 149\n"
     ]
    }
   ],
   "source": [
    "print('shape of the dataframe:', emails_df_sub.shape)\n",
    "# Find number of unique values in each columns\n",
    "for col in emails_df_sub.columns:\n",
    "    print(col, emails_df_sub[col].nunique())"
   ]
  },
  {
   "cell_type": "markdown",
   "metadata": {},
   "source": [
    "## Group the emails by the user "
   ]
  },
  {
   "cell_type": "code",
   "execution_count": 55,
   "metadata": {
    "collapsed": false
   },
   "outputs": [],
   "source": [
    "emails_df_sub_grouped = emails_df_sub.groupby('user')['content'].apply(lambda x: x.sum()).reset_index().groupby('user')['content'].apply(lambda x: x.sum()).reset_index()"
   ]
  },
  {
   "cell_type": "markdown",
   "metadata": {},
   "source": [
    "## More pre-processing"
   ]
  },
  {
   "cell_type": "markdown",
   "metadata": {},
   "source": [
    "Now, we can pre-process the emails by doing the following:\n",
    "1. removing website urls\n",
    "2. standardizing words\n",
    "3. removing puncuation\n",
    "4. remove all numbers\n",
    "5. removing stop words\n",
    "6. removing chat words"
   ]
  },
  {
   "cell_type": "code",
   "execution_count": 56,
   "metadata": {
    "collapsed": false
   },
   "outputs": [],
   "source": [
    "stop = stopwords.words('english')\n",
    "exclude = set(string.punctuation)\n",
    "exclude.update({'\\n', '\\t'})\n",
    "chat_words_lower = sorted(set(w.lower() for w in nltk.corpus.nps_chat.words()))"
   ]
  },
  {
   "cell_type": "code",
   "execution_count": 59,
   "metadata": {
    "collapsed": false
   },
   "outputs": [],
   "source": [
    "def clean(doc):\n",
    "    try:\n",
    "        doc['content'] = ''.join(''.join(s)[:2] for _, s in itertools.groupby(doc['content']))\n",
    "        doc['content'] = re.sub(r'http\\S+', '', doc['content'])\n",
    "        doc['content'] = ''.join([i for i in doc['content'] if not i.isdigit()])\n",
    "        doc['content'] = ' '.join([i for i in doc['content'].lower().split(' ') if i not in stop])\n",
    "        doc['content'] = ' '.join([i for i in doc['content'].lower().split(' ') if i not in chat_words_lower])\n",
    "        doc['content'] = ''.join(ch for ch in doc['content'] if ch not in exclude)\n",
    "    except:\n",
    "        doc['content'] = ''\n",
    "    return doc['content']"
   ]
  },
  {
   "cell_type": "code",
   "execution_count": 60,
   "metadata": {
    "collapsed": false
   },
   "outputs": [],
   "source": [
    "emails_df_sub_grouped['content'] = emails_df_sub_grouped.apply(clean, axis=1)"
   ]
  },
  {
   "cell_type": "code",
   "execution_count": 61,
   "metadata": {
    "collapsed": false
   },
   "outputs": [
    {
     "data": {
      "text/html": [
       "<div>\n",
       "<style>\n",
       "    .dataframe thead tr:only-child th {\n",
       "        text-align: right;\n",
       "    }\n",
       "\n",
       "    .dataframe thead th {\n",
       "        text-align: left;\n",
       "    }\n",
       "\n",
       "    .dataframe tbody tr th {\n",
       "        vertical-align: top;\n",
       "    }\n",
       "</style>\n",
       "<table border=\"1\" class=\"dataframe\">\n",
       "  <thead>\n",
       "    <tr style=\"text-align: right;\">\n",
       "      <th></th>\n",
       "      <th>user</th>\n",
       "      <th>content</th>\n",
       "    </tr>\n",
       "  </thead>\n",
       "  <tbody>\n",
       "    <tr>\n",
       "      <th>0</th>\n",
       "      <td>allen-p</td>\n",
       "      <td>unsubscribe click here if received error reply...</td>\n",
       "    </tr>\n",
       "    <tr>\n",
       "      <th>1</th>\n",
       "      <td>arnold-j</td>\n",
       "      <td>themerrol mclaughlinenron amto arnoldhouectect...</td>\n",
       "    </tr>\n",
       "    <tr>\n",
       "      <th>2</th>\n",
       "      <td>arora-h</td>\n",
       "      <td>request pending approval days click review upo...</td>\n",
       "    </tr>\n",
       "    <tr>\n",
       "      <th>3</th>\n",
       "      <td>badeer-r</td>\n",
       "      <td>thursday attached presentation ferc staff the ...</td>\n",
       "    </tr>\n",
       "    <tr>\n",
       "      <th>4</th>\n",
       "      <td>bailey-s</td>\n",
       "      <td>edwardi noticed senior designation strange yes...</td>\n",
       "    </tr>\n",
       "  </tbody>\n",
       "</table>\n",
       "</div>"
      ],
      "text/plain": [
       "       user                                            content\n",
       "0   allen-p  unsubscribe click here if received error reply...\n",
       "1  arnold-j  themerrol mclaughlinenron amto arnoldhouectect...\n",
       "2   arora-h  request pending approval days click review upo...\n",
       "3  badeer-r  thursday attached presentation ferc staff the ...\n",
       "4  bailey-s  edwardi noticed senior designation strange yes..."
      ]
     },
     "execution_count": 61,
     "metadata": {},
     "output_type": "execute_result"
    }
   ],
   "source": [
    "emails_df_sub_grouped.head()"
   ]
  },
  {
   "cell_type": "code",
   "execution_count": 62,
   "metadata": {
    "collapsed": false
   },
   "outputs": [],
   "source": [
    "training = emails_df_sub_grouped.sample(frac=0.7, random_state=0).reset_index(drop=True)\n",
    "testing = emails_df_sub_grouped.loc[~emails_df_sub_grouped.index.isin(training.index)].reset_index(drop=True)"
   ]
  },
  {
   "cell_type": "code",
   "execution_count": 63,
   "metadata": {
    "collapsed": false
   },
   "outputs": [
    {
     "data": {
      "text/html": [
       "<div>\n",
       "<style>\n",
       "    .dataframe thead tr:only-child th {\n",
       "        text-align: right;\n",
       "    }\n",
       "\n",
       "    .dataframe thead th {\n",
       "        text-align: left;\n",
       "    }\n",
       "\n",
       "    .dataframe tbody tr th {\n",
       "        vertical-align: top;\n",
       "    }\n",
       "</style>\n",
       "<table border=\"1\" class=\"dataframe\">\n",
       "  <thead>\n",
       "    <tr style=\"text-align: right;\">\n",
       "      <th></th>\n",
       "      <th>user</th>\n",
       "      <th>content</th>\n",
       "    </tr>\n",
       "  </thead>\n",
       "  <tbody>\n",
       "    <tr>\n",
       "      <th>0</th>\n",
       "      <td>saibi-e</td>\n",
       "      <td>delete received thanks rika ken lay enron chai...</td>\n",
       "    </tr>\n",
       "    <tr>\n",
       "      <th>1</th>\n",
       "      <td>salisbury-h</td>\n",
       "      <td>just entering wheel interchange import export ...</td>\n",
       "    </tr>\n",
       "    <tr>\n",
       "      <th>2</th>\n",
       "      <td>sanchez-m</td>\n",
       "      <td>annecould tori ytd pl prior todays pl arrive y...</td>\n",
       "    </tr>\n",
       "    <tr>\n",
       "      <th>3</th>\n",
       "      <td>sanders-r</td>\n",
       "      <td>forwarded sandershouect t johnsonenron pm  to ...</td>\n",
       "    </tr>\n",
       "    <tr>\n",
       "      <th>4</th>\n",
       "      <td>scholtes-d</td>\n",
       "      <td>friday stewart rosman paschke bpa transmission...</td>\n",
       "    </tr>\n",
       "    <tr>\n",
       "      <th>5</th>\n",
       "      <td>schoolcraft-d</td>\n",
       "      <td>we delivery pointthe linam ranch duke delivery...</td>\n",
       "    </tr>\n",
       "    <tr>\n",
       "      <th>6</th>\n",
       "      <td>schwieger-j</td>\n",
       "      <td>trading organizations tremendous year sometime...</td>\n",
       "    </tr>\n",
       "    <tr>\n",
       "      <th>7</th>\n",
       "      <td>scott-s</td>\n",
       "      <td>january ferc issued section c certificate tran...</td>\n",
       "    </tr>\n",
       "    <tr>\n",
       "      <th>8</th>\n",
       "      <td>semperger-c</td>\n",
       "      <td>th june lines long routing counterparty enpowe...</td>\n",
       "    </tr>\n",
       "    <tr>\n",
       "      <th>9</th>\n",
       "      <td>shackleton-s</td>\n",
       "      <td>no april toall nymex division membersfromdonna...</td>\n",
       "    </tr>\n",
       "    <tr>\n",
       "      <th>10</th>\n",
       "      <td>shankman-j</td>\n",
       "      <td>address forwarded jeffrey shankmanhouect  paul...</td>\n",
       "    </tr>\n",
       "    <tr>\n",
       "      <th>11</th>\n",
       "      <td>shapiro-r</td>\n",
       "      <td>fyi ees organization reorganized centralize te...</td>\n",
       "    </tr>\n",
       "    <tr>\n",
       "      <th>12</th>\n",
       "      <td>shively-h</td>\n",
       "      <td>applied finance june in eb cost the objective ...</td>\n",
       "    </tr>\n",
       "    <tr>\n",
       "      <th>13</th>\n",
       "      <td>skilling-j</td>\n",
       "      <td>document appreciation efforts attitude inciden...</td>\n",
       "    </tr>\n",
       "    <tr>\n",
       "      <th>14</th>\n",
       "      <td>slinger-r</td>\n",
       "      <td>original messagefrom molly meyers mailtomollya...</td>\n",
       "    </tr>\n",
       "    <tr>\n",
       "      <th>15</th>\n",
       "      <td>smith-m</td>\n",
       "      <td>w v yf roctober pm am allen outagetime   ctsat...</td>\n",
       "    </tr>\n",
       "    <tr>\n",
       "      <th>16</th>\n",
       "      <td>solberg-g</td>\n",
       "      <td>start date  hourahead hour hourahead download ...</td>\n",
       "    </tr>\n",
       "    <tr>\n",
       "      <th>17</th>\n",
       "      <td>south-s</td>\n",
       "      <td>date category shortterm firm capacity subcateg...</td>\n",
       "    </tr>\n",
       "    <tr>\n",
       "      <th>18</th>\n",
       "      <td>staab-t</td>\n",
       "      <td>adjusted rounding deliveries  th thso adjustme...</td>\n",
       "    </tr>\n",
       "    <tr>\n",
       "      <th>19</th>\n",
       "      <td>stclair-c</td>\n",
       "      <td>lukewhat status review amendment draft had mat...</td>\n",
       "    </tr>\n",
       "    <tr>\n",
       "      <th>20</th>\n",
       "      <td>steffes-j</td>\n",
       "      <td>rescheduledjim original messagefrom velasco xo...</td>\n",
       "    </tr>\n",
       "    <tr>\n",
       "      <th>21</th>\n",
       "      <td>stepenovitch-j</td>\n",
       "      <td>mcnabb donovan phi qbalstott tbb rbsmith lamar...</td>\n",
       "    </tr>\n",
       "    <tr>\n",
       "      <th>22</th>\n",
       "      <td>stokley-c</td>\n",
       "      <td>tardiness issue cleaning realized topic estima...</td>\n",
       "    </tr>\n",
       "    <tr>\n",
       "      <th>23</th>\n",
       "      <td>storey-g</td>\n",
       "      <td>report named ce pl published available viewing...</td>\n",
       "    </tr>\n",
       "    <tr>\n",
       "      <th>24</th>\n",
       "      <td>sturm-f</td>\n",
       "      <td>tjplease central desk calendar thanksfletchthe...</td>\n",
       "    </tr>\n",
       "    <tr>\n",
       "      <th>25</th>\n",
       "      <td>swerzbin-m</td>\n",
       "      <td>energy market reporttuesday january see attach...</td>\n",
       "    </tr>\n",
       "    <tr>\n",
       "      <th>26</th>\n",
       "      <td>symes-k</td>\n",
       "      <td>killed apb apb samehope trading screwing right...</td>\n",
       "    </tr>\n",
       "    <tr>\n",
       "      <th>27</th>\n",
       "      <td>taylor-m</td>\n",
       "      <td>please attached regardswendi lebrocq mike clar...</td>\n",
       "    </tr>\n",
       "    <tr>\n",
       "      <th>28</th>\n",
       "      <td>tholt-j</td>\n",
       "      <td>nothey tori vaction mondaywould it wednov than...</td>\n",
       "    </tr>\n",
       "    <tr>\n",
       "      <th>29</th>\n",
       "      <td>thomas-p</td>\n",
       "      <td>cgoeringnyisocom writes nyisotechexchange disc...</td>\n",
       "    </tr>\n",
       "    <tr>\n",
       "      <th>30</th>\n",
       "      <td>townsend-j</td>\n",
       "      <td>forwarded townsendhouect pm  chairmanfrom chai...</td>\n",
       "    </tr>\n",
       "    <tr>\n",
       "      <th>31</th>\n",
       "      <td>tycholiz-b</td>\n",
       "      <td>gentlemeni havent ldwps request listed below r...</td>\n",
       "    </tr>\n",
       "    <tr>\n",
       "      <th>32</th>\n",
       "      <td>ward-k</td>\n",
       "      <td>forwarded fosterhouect   enron capital trade r...</td>\n",
       "    </tr>\n",
       "    <tr>\n",
       "      <th>33</th>\n",
       "      <td>watson-k</td>\n",
       "      <td>jennifer i vacation meetingthanks kim original...</td>\n",
       "    </tr>\n",
       "    <tr>\n",
       "      <th>34</th>\n",
       "      <td>weldon-c</td>\n",
       "      <td>streetcomover days fund companies launched fil...</td>\n",
       "    </tr>\n",
       "    <tr>\n",
       "      <th>35</th>\n",
       "      <td>whalley-g</td>\n",
       "      <td>weekly management report daily executive summa...</td>\n",
       "    </tr>\n",
       "    <tr>\n",
       "      <th>36</th>\n",
       "      <td>whalley-l</td>\n",
       "      <td>attached enron americas trading violation memo...</td>\n",
       "    </tr>\n",
       "    <tr>\n",
       "      <th>37</th>\n",
       "      <td>white-s</td>\n",
       "      <td>fine derivatives group structured book darcy t...</td>\n",
       "    </tr>\n",
       "    <tr>\n",
       "      <th>38</th>\n",
       "      <td>whitt-m</td>\n",
       "      <td>original messagefrom boase allan sent thursda...</td>\n",
       "    </tr>\n",
       "    <tr>\n",
       "      <th>39</th>\n",
       "      <td>williams-j</td>\n",
       "      <td>fyian netting agreementsplease several hpl net...</td>\n",
       "    </tr>\n",
       "    <tr>\n",
       "      <th>40</th>\n",
       "      <td>williams-w3</td>\n",
       "      <td>start date  hourahead hour ancillary schedules...</td>\n",
       "    </tr>\n",
       "    <tr>\n",
       "      <th>41</th>\n",
       "      <td>wolfe-j</td>\n",
       "      <td>ive friday fridayw shannan oshaughnessysubsea ...</td>\n",
       "    </tr>\n",
       "    <tr>\n",
       "      <th>42</th>\n",
       "      <td>ybarbo-p</td>\n",
       "      <td>please reminded bullet kims possession fridayp...</td>\n",
       "    </tr>\n",
       "    <tr>\n",
       "      <th>43</th>\n",
       "      <td>zipper-a</td>\n",
       "      <td>apraprapraprapraprapraprapraprapraprapraprapra...</td>\n",
       "    </tr>\n",
       "    <tr>\n",
       "      <th>44</th>\n",
       "      <td>zufferli-j</td>\n",
       "      <td>event vision clearing eyejohn original message...</td>\n",
       "    </tr>\n",
       "  </tbody>\n",
       "</table>\n",
       "</div>"
      ],
      "text/plain": [
       "              user                                            content\n",
       "0          saibi-e  delete received thanks rika ken lay enron chai...\n",
       "1      salisbury-h  just entering wheel interchange import export ...\n",
       "2        sanchez-m  annecould tori ytd pl prior todays pl arrive y...\n",
       "3        sanders-r  forwarded sandershouect t johnsonenron pm  to ...\n",
       "4       scholtes-d  friday stewart rosman paschke bpa transmission...\n",
       "5    schoolcraft-d  we delivery pointthe linam ranch duke delivery...\n",
       "6      schwieger-j  trading organizations tremendous year sometime...\n",
       "7          scott-s  january ferc issued section c certificate tran...\n",
       "8      semperger-c  th june lines long routing counterparty enpowe...\n",
       "9     shackleton-s  no april toall nymex division membersfromdonna...\n",
       "10      shankman-j  address forwarded jeffrey shankmanhouect  paul...\n",
       "11       shapiro-r  fyi ees organization reorganized centralize te...\n",
       "12       shively-h  applied finance june in eb cost the objective ...\n",
       "13      skilling-j  document appreciation efforts attitude inciden...\n",
       "14       slinger-r  original messagefrom molly meyers mailtomollya...\n",
       "15         smith-m  w v yf roctober pm am allen outagetime   ctsat...\n",
       "16       solberg-g  start date  hourahead hour hourahead download ...\n",
       "17         south-s  date category shortterm firm capacity subcateg...\n",
       "18         staab-t  adjusted rounding deliveries  th thso adjustme...\n",
       "19       stclair-c  lukewhat status review amendment draft had mat...\n",
       "20       steffes-j  rescheduledjim original messagefrom velasco xo...\n",
       "21  stepenovitch-j  mcnabb donovan phi qbalstott tbb rbsmith lamar...\n",
       "22       stokley-c  tardiness issue cleaning realized topic estima...\n",
       "23        storey-g  report named ce pl published available viewing...\n",
       "24         sturm-f  tjplease central desk calendar thanksfletchthe...\n",
       "25      swerzbin-m  energy market reporttuesday january see attach...\n",
       "26         symes-k  killed apb apb samehope trading screwing right...\n",
       "27        taylor-m  please attached regardswendi lebrocq mike clar...\n",
       "28         tholt-j  nothey tori vaction mondaywould it wednov than...\n",
       "29        thomas-p  cgoeringnyisocom writes nyisotechexchange disc...\n",
       "30      townsend-j  forwarded townsendhouect pm  chairmanfrom chai...\n",
       "31      tycholiz-b  gentlemeni havent ldwps request listed below r...\n",
       "32          ward-k  forwarded fosterhouect   enron capital trade r...\n",
       "33        watson-k  jennifer i vacation meetingthanks kim original...\n",
       "34        weldon-c  streetcomover days fund companies launched fil...\n",
       "35       whalley-g  weekly management report daily executive summa...\n",
       "36       whalley-l  attached enron americas trading violation memo...\n",
       "37         white-s  fine derivatives group structured book darcy t...\n",
       "38         whitt-m   original messagefrom boase allan sent thursda...\n",
       "39      williams-j  fyian netting agreementsplease several hpl net...\n",
       "40     williams-w3  start date  hourahead hour ancillary schedules...\n",
       "41         wolfe-j  ive friday fridayw shannan oshaughnessysubsea ...\n",
       "42        ybarbo-p  please reminded bullet kims possession fridayp...\n",
       "43        zipper-a  apraprapraprapraprapraprapraprapraprapraprapra...\n",
       "44      zufferli-j  event vision clearing eyejohn original message..."
      ]
     },
     "execution_count": 63,
     "metadata": {},
     "output_type": "execute_result"
    }
   ],
   "source": [
    "testing"
   ]
  },
  {
   "cell_type": "code",
   "execution_count": 64,
   "metadata": {
    "collapsed": true
   },
   "outputs": [],
   "source": [
    "training_corpus = training.values.tolist()\n",
    "testing_corpus = testing.values.tolist()"
   ]
  },
  {
   "cell_type": "markdown",
   "metadata": {},
   "source": [
    "## Applying TF_IDF"
   ]
  },
  {
   "cell_type": "code",
   "execution_count": 65,
   "metadata": {
    "collapsed": false
   },
   "outputs": [
    {
     "name": "stdout",
     "output_type": "stream",
     "text": [
      "Number of documents: 104 , number of features: 72\n"
     ]
    }
   ],
   "source": [
    "tf = TfidfVectorizer(analyzer='word', ngram_range=(1,2), min_df=0.5, max_df=0.95, stop_words = 'english')\n",
    "tfidf_matrix = tf.fit_transform([content for file, content in training_corpus])\n",
    "\n",
    "print('Number of documents:', tfidf_matrix.shape[0], ', number of features:', tfidf_matrix.shape[1])"
   ]
  },
  {
   "cell_type": "code",
   "execution_count": 66,
   "metadata": {
    "collapsed": false
   },
   "outputs": [
    {
     "data": {
      "text/plain": [
       "['additional',\n",
       " 'agreement',\n",
       " 'amto',\n",
       " 'attached',\n",
       " 'august',\n",
       " 'available',\n",
       " 'based',\n",
       " 'basis',\n",
       " 'business',\n",
       " 'changes',\n",
       " 'click',\n",
       " 'company',\n",
       " 'complete',\n",
       " 'continue',\n",
       " 'copy',\n",
       " 'currently',\n",
       " 'daily',\n",
       " 'data',\n",
       " 'december',\n",
       " 'details',\n",
       " 'dont',\n",
       " 'email',\n",
       " 'enron',\n",
       " 'enrons',\n",
       " 'fax',\n",
       " 'file',\n",
       " 'forwarded',\n",
       " 'friday',\n",
       " 'group',\n",
       " 'houston',\n",
       " 'ill',\n",
       " 'im',\n",
       " 'include',\n",
       " 'including',\n",
       " 'information',\n",
       " 'january',\n",
       " 'market',\n",
       " 'message',\n",
       " 'messagefrom',\n",
       " 'monday',\n",
       " 'november',\n",
       " 'order',\n",
       " 'original',\n",
       " 'original messagefrom',\n",
       " 'pm',\n",
       " 'pmto',\n",
       " 'prior',\n",
       " 'program',\n",
       " 'provided',\n",
       " 'purchase',\n",
       " 'questions',\n",
       " 'receive',\n",
       " 'received',\n",
       " 'report',\n",
       " 'request',\n",
       " 'required',\n",
       " 'review',\n",
       " 'scheduled',\n",
       " 'services',\n",
       " 'subject',\n",
       " 'support',\n",
       " 'th',\n",
       " 'thanks',\n",
       " 'thursday',\n",
       " 'time',\n",
       " 'today',\n",
       " 'trading',\n",
       " 'tuesday',\n",
       " 'update',\n",
       " 'wednesday',\n",
       " 'week',\n",
       " 'year']"
      ]
     },
     "execution_count": 66,
     "metadata": {},
     "output_type": "execute_result"
    }
   ],
   "source": [
    "tf.get_feature_names()"
   ]
  },
  {
   "cell_type": "markdown",
   "metadata": {},
   "source": [
    "## Testing using cosing similarity"
   ]
  },
  {
   "cell_type": "code",
   "execution_count": 67,
   "metadata": {
    "collapsed": false
   },
   "outputs": [
    {
     "data": {
      "text/plain": [
       "['skilling-j',\n",
       " 'document appreciation efforts attitude incident showed compassion quickly resolve issue hesitation aprils loans jenny me compensatory efforts resulted jenny lunch initiating funding dave parquet mandating replacement via fedex nonnegotiablei ccd skilling efficient compassionate enron april cristina yourselveshi joanniewe spoke followingharrahs entertainment a ees customer offices tomorrow jeffs permits wed conference hello alternatively suite enron hed game odds low doesnt askwe profitable longterm harrahs brief additional businessive attached agenda tomorrowthanksken unhappy investment choicesis broker adding valueneed rollover retirement previous employerbares capital management inc independent austin basedinvestment advisor specializing managing accounts highnet worthindividuals institutions unlike brokers compensatedthrough transactions activity mutual fund commissions butinstead assetbased management fee therefore ourcompensation rises value account arelongterm managers emphasize research employ valueinvestment philosophy focuses building suitable portfolio ofindividual securities custom tailored achieve yourunique goalsif uncomfortable trusting portfolio salesperson awall firm conflicts interest abound investmentperformance account activity perfectcandidate capital management incs discretionaryaccount managementif capital managementincs management philosophy online at  behappy speak discuss investment situationno fees obligationbares capital management incinvesting journeywe specialize returnwwbarescapitalcomon quarterly basis market commentarythat clients receive thiscommentary via email reply message wordremove apologies inconveniencingyou commentary articles viewed atplease ljm coinvestment lp ljm related party purposes disclosure enrons proxy statements transactions occur ljm unrelated partyandy fastowevpcfo enronplease attached management report total datenumber transactions gross notional value  revenue flows   new counterparties transacting counterparties transacted also attached public domain report containing isintended presentations reports byindividuals enrontotal transactions  enronscurrent transactions monthaverage daily transactions life notional value transactions billionaverage daily notional value approximately million  ofenrons notional volumenumber products offered approximately dear kurzi spoke mr skilling below willing opportunities neds however demands time significant order pursue andor appointmentwith regard specific company mind review any written have review it we interest followon discussions appropriate mail federal express information tojeffrey k skillingpresident cooenron corp smith street ebhouston thank consideration soonregardssherri seraassistant skillingemail sherriseraenroncombarbarakurzwmanngkrcom  pmto jeffskillingenroncomcc subject appointmentsdear jeffi partner whitehead mann introduce my firm executive search consultancy global organizations nonexecutive directorsnedfor boards one time keen nationals boards due interests usi approaching ned position specific parisbased global industrial company worldwide revenues excess billioni returned the weeks grateful would appointments reached via conveniencei youregardsbarbara kurzlets againthanksmelissa littleassistant michael mauboussincredit suisse boston original messagefrom sherriseraenroncom mailtosherriseraenroncomsent tuesday pmto michaelmauboussincsfbcomsubject skillingmr mauboussinyour received skilling references anattached preface doesnt have possible youcould resend jeffskillingenroncom yourassistanceregardssherri seraassistant skilling faxsherriseraenroncomthis message persons only containconfidential proprietary legally privileged information noconfidentiality privilege waived mistransmissionif receive message error immediately delete allcopies system destroy copies notify thesender not directly indirectly use disclose distributeprint copy message intendedrecipient suisse group subsidiaries reservethe monitor communications networks anyviews expressed message sender exceptwhere message states otherwise sender authorised statethem views entityunless otherwise stated pricing message isindicative only constitute todeal quotedany reference terms executed transactions treated aspreliminary formal written confirmation prefacedoc attached draft memo announcing stock prepared approved legal to employees wednesday june copies translated available employees outlying areas day order distribute wednesday wed approval am monday june thank youkarenwow enron employees houstonians showing generosity the response outstanding employees continental airlines surrounding corporations donation give personnel informed overwhelming response donations firstcome firstserved basis attempting appointments schedule however patience understanding delay it gratifying witness continued generosity community beyond thanks shack address elvis yahoo sponsor advertisement image image unsubscribe group tosmubetasunsubscribeegroupscom your yahoo yahoo terms tuesday december th th employees the annual pm pm similar year food beverage musical entertainment decorate eight executive offices reflect festival lights goal is expose employees celebrations simultaneously demystify th floorfor reference offices decorated listed belowst lucia laykwaanza skillinglos posadas wallschinese cindy olsonhanukkah andy fastowramadan buydevali causeychristmas jim derrickwe executive committee members volunteer greet employees in th elevator lobby serve punch slots available in minute increments pm pm reply if volunteer event additional information reference timethis annual employee comments questions charla reesemanager community relationsxdear ypoerfor path nfl greatness leads tampa florida ypos bel airchapteralong los angeles entertainment commission offeringan exclusiveweekend package xxv ypo platinum seriesto weekends ncaamens final masters visita levity times apologies big fans okieland kai bros artie message from wayne garraway wsgarrawayprodigynetto undisclosedrecipientpimoutintprodigynetsent friday september amsubject fw fans message  from rellisaolcom to ronellisabnamrocom cc wsgarrawayprodigynet jjpsuaolcom caymuscscom sent friday august am subject fwd fans   yahoo sponsor get report creditcheckmonitoring trialat homecoming beta tent crowd far consider homecoming beta incredibleforget betweeneveryone agoyour yahoo returnpath blevinemdhomecomreceived rlyygmxaolcom rlyygmailaolcom  airygmailaolcom v esmtp mailinyg thu aug  received femailsdcsfbahomecom femailsdcsfbahomecom  rlyygmxaolcom v esmtp mailrelayinyg thu aug  received cna  femailsdcsfbahomecom intermail vm  smtp ccyvfemailsdcsfbahomecomcna thu aug  messageid ccefafbnewcasdehomecomreplyto brian levine blevinemdhomecomfrom brian levine blevinemdhomecomto undisclosedrecipientsubject fansdate thu aug  mimeversion contenttype multipartalternativeboundarynextpartcaacacxpriority xmsmailpriority normalxmailer microsoft express xmimeole produced microsoft mimeole vsubject    am sats  drool    cheerleaders room  teeth    cheerleader dorm room  grease hips hell    tech graduate porch  pizza    cheerleaders bibs  tobacco uniforms    baylor possum  home road    longest kstate players life  freshman year    colorado freshmen bulb  none thats sophomore colorado    oj bronco  lawrence kansas heisman  trophy winner   and drum cymbal crash     color  saturday hunting sunday  picking highways week  againyou knowing version previous waspublished language daily february thim states afraid thatit negative turks shortened it outfor example speculation soldiers treat whooutflanked fence thewindows i aboutvindictiveness justification edited bit forexample invasion peace operationwhich somewhat euphemistic which doesntnot turks werent justified invading placeid it allmight havehope wellmarkget private arriving midnight sorrykevin comptonkleiner perkinsoriginal messagefrom jeffskillingenroncom mailtojeffskillingenroncomsent wednesday pmto kevin compton darnoffgreylockcom johntaustinventurescomcc mholthouseholthouseinterestscom mkhourietrammellcrowcomginamaustinventurescom joanniewilliamsonenroncomsubject monday importance highgentlemenmessrs micheal holthouse khourie jeffs cohosts ypo event evening reservations khouries capital grillelocated westheimer in galleria area pmshould transportation restaurant makethose arrangements youplease confirming attendance dinner lookforward youregardssherri seraassistant skilling faxsherriseraenroncomesource presents skyminder trainingskyminder provides companies worldwide industries company profiles company data information industry reports news tables investment reports market reports executive lists company morepay go no yearly fees search download printing feesskyminder is sole provider millions indepth reports millions international companies skyminders consultants track obscure companies worldwide profiling fresh investigation  skyminder training sessions july  pmebjuly  pmebjuly  pmebesource presents lexisnexis trainingbasiclexisnexis basic geared novice prospective user basics nexiscom company available lexisnexisattend lexisnexis basics clinics july  ebjuly  eb advancedthis session advanced tips smartindexing narrow search results customize desktop searchingattend lexisnexis advanced clinic july  ebthe  personno charged  lexisnexis login password dont one providedesource presents dow interactive trainingintroduction dow interactive personalizingcustomizing dji custom clipsyou tailor dji display you create view headlines chosen publications custom clip folders custom clips automatically company business decisions attend dow interactive basic clinics july  ebcjuly  ebc advancedlearn efficient dow interactive tools you employ codes search history customize providedattend dow interactive advanced clinic july  amebcthe  personno charged  dow interactive login password dont one providedseats fill fast reserve seat stephanie e taylor check esource training additional training vendor presentationsmomyour letter wonderful transported condoand glimpse there thanksi or chance toms mycorrespondence mentioned seemedas excited was rare wasespecially involved thisemail gadget is lesssimultaneouslyi dont copy perspective section seegenerally sancta sophia thefirst page upper lefthand youll fingerof water thats horn to left roughly directlyabove sancta sophia bosphorus bridge crossingthe horn were upper corner galatabridge bridge approximately isthe blur buildings galata are aneighborhood galata though subneighborhood kuledibi ill bringing pictures thats startit condo nearly ago alsoamazing thatit since iscruel think initial cold discomfort bellfor too althoughistanbul winters winters ithink ie really ismail didbag and halfmentioned article lent anexcellent comforter blanket me rely heaters here asno centralized heating time bed agas heater youre in theres aleak buried blankets againstthe freezing temperatures then fully equipped egalos heater night readyclothes everything winter also morethings im sf said wouldnt otherway dues acclimated experiencelife america notinaccessible marks spencer mcdonalds idespite month most calculate that provided dont scale thingsare sf toothpaste evencrest spadeshave gotten visitmore later person andsending articlelovemarkget private jim youlucy marshalloffice chairmanenron broadband servicesoffice fax cell lucymarshallenronnet forwarded lucy marshallenron communications jim fallon by lucy marshall to riceenron communicationsenron communications jim fallonenron communicationsenron communications coxenron communicationsenron communications marla barnardenron communicationsenron communications frank bayenron communicationsenron communications fred cohaganenron communicationsenron communications dimicheleenron communicationsenron communications wade doshierenron communications anthony duennerenron communicationsenron communications echolsenron communicationsenron communications rick fehlenron communicationsenron communications goldenenron communicationsenron communications kevin howardenron communications kelly kimberlyenron communicationsenron communications phillip lordenron communicationsenron communications kristina mordauntenron communications edward ondarzaenron communications barry pearceenron communicationsenron communications everett planteenron communications racicotenron communicationsenron communications marcello romanoenron communicationsenron communications matthew scrimshawenroneuenronxgate stewart seeligsonenron communications dale surbeyenron communicationsenron communications ricky waddellenron communicationsenron communications cc subject bullet pointsallattached your employees tomorrow if questions callregardsjimdddddddddddddddddddddddddddddddddddddddddddddddddddddddddddddddoffice fax cellular pager skytelthe report named violationnotification memo published available viewing websitehi jeffsurvived kiddies nina outat conference corsica notified film sentoff shutterfly available photos thewedding day im sending link by separate email youreinterested copies likely photos rebeccaonce ive gotten processed thatyou like ill copies too theres areally shukrani enjoyed toseeing sf dont rebeccas email pleasesent loveall bestmisha weidmanchiliupmishawmindspringcomwe urgent approximately interviewers weekends super recruiting analyst associate candidates been invited importance efforts appreciate encouraging members organization participate weekenddetails followsdate saturday december time am breakfast am interviews begin pm decision no hourscontact shelly jones xthank prompt matterjeff attached management report june total datenumber transactions gross notional value  revenue flows   new counterparties transacting counterparties transacted also attached public domain report containing isintended presentations reports byindividuals enrontotal transactions  enronscurrent transactions monthaverage daily transactions life notional value transactions billionaverage daily notional value approximately billion  ofenrons notional volumenumber products offered approximately step fresh air entertainmentvisit cafe celebrate splash pappas serve burgers trimmings latin norma zenteno band customized pt cruiser raffled kids strength ski climbing wallin conjunction employee health shops th anniversary sponsor various activities cafe splash activities include complimentary massages koala health analysis blood pressure assessments information enrons travel activitiesthe cafe ampm antioch splash fun houston astros halfprice exclusively enron employeesthe houston astros excited enron employees exclusive astros padres enron employees purchase upper deck mezzanine  available ticketmastercomjackpotenron beginning monday th ending monday pmto advantage discount instructions click link please note hyperlink retrieve extends line occur copy browser promotions offers password baseball bb password box bb box select upper deck mezzanine pricing locations menu select delivery method click look tickets keyshould questions astros services  star wars films may see completed films legendary wars saga screen mfah presents editions episodes ivvi episode newly renovated auditorium dolby digital dts stadium seatingstar wars episode iva hopedirected lucasusa minfriday pmsaturday amstar wars episode vthe empire strikes backdirected irvin kershnerusa minfriday pmsaturday amstar wars episode vireturn jedidirected marquandusa minfriday pmsaturday amstar wars episode ithe phantom menacedirected lucasusa minfriday pmsaturday amtickets sale auditorium booth beforeshow time booth located lower carolinewiess buildinggeneral admission  matinee admission show pm  enron employees receive discount discount admissions nonmembers members free films screened auditorium museums caroline wiess building bissonnet parking available information website wwmfahorghelp cystic fibrosisthe cystic fibrosis foundation hosting annual strides saturday hermann park event foundations major grassroots fundraising event  dollar raised directly furthering effective treatments diseasecystic fibrosis fatal genetic caucasian population today affecting states median survival cf patients yearsif participating sponsoring walker poche help affected arthritis joint thousands greater houstonians arthritis mile begins kelseyseybold clinic travels braes bayou get stepincrease leadership skills project blueprintproject blueprint program gulf coast week designed increase ethnically diverse leadership nonprofit sector participants training enhance leadership management skills allows community meaningful way application xxi ana eigler project blueprint coordinator  application deadline july what impromptu professionals symphony networkthis professionals socialize sambuca jazz cafe houstons restaurants network professionals casual setting followed houston symphony concertconcert celebrate houston symphonys final performance seasonwith director designate hans graf hans graf conductor leon fleisher piano barber medeas vengeance mozart piano concerto no  strauss heros lifewhen monday where preconcert sambuca jazz cafe texasconcert hall louisianatime party pmconcert pmcost  includes concert preconcertparty complimentary horsdoeuvres jazzby monks prizes barrsvp please online wwhoustonsymphonyorg  reservations todaythe contemporary arts museum volunteers camboree event sunday pm pm picnic dinner artistled activities volunteers kids  commitment volunteers museum membership you respond jennifer milligan xsupport kidsave miracles happen summer kidsaves miracles program enables orphaned travel canada families camp program families concerned adopting meet bestcase scenario child program prospective evaluate firsthand challenges rewards adopting child in kidsave adoption agency partners placed percent participated program generally percent participate program program remaining percent require work kidsave believes deserves family committed placing participate miracles program families familylike environments we families host children camp program children nonprofit organization kidsave donations raise families tonya hoppe tonyatonyacc houstons kidsave program enron kidventure camps camp enron celebrating year camp enron providing camp children  enron employees contractors this year camp august ten oneweek available families sessions camp friday the includes transportation trips activities deposit reserve sessions deadline register monday to register to limitedenron energizer camp enron team enron campers coach transported nearby camp campers energizer its easyfor contactweb site wwkidventurecampcomcall kidventure email campskidventurecampcomhave shareto events enron action eiaenroncom no noon thursday prior mondays mailinghello mark speak enron shaw europe londonoffice copy email im letting callglad well project srsmark skilling markskillinghotmailcom  amto jskillienroncomcc subjectjeffi preparing report foreign companiesexperiences turkey tocontact enrons operation suspect anysuch confidential sensitive not wouldbe interesitng hesitate no justaskinghope well sometimesoon grinsmarkget private hotmail mr skilling good afternoon debra reed president sdge shes register conference i clarificationthe portion letter mentions participating panelist agenda complete attendance terms participation please advise prefer  thank you mf june th pdfgood guyson friday reported industrial production fell  mayafter downwardrevised  april additionally capacityutilization fell  lowest august dataincreases odds basis interest rate federalreserve june meetingthe year tbond yield the year yield the year trading spot crude trading  pbnatural henry trading  pmcfad timenew federal insidertrading rule b secunder securities greatly enhances aninsidersemployees ability trade hisher corporate shares duringblackout periodspreviously protection rule employees andinsiders safely trade designated blackout windowsunder rule insidersemployees ability purchase andsell corporate shares blackout periods written planwas established force insideremployee possessionof material nonpublic informationthe contains restrictions reviewed carefullylehman established turnkey account theregulatory procedures establishing plan orcall informationlehman brothers researchinitiating coverageneurocrine biosciencesnbix m wood initiating coverage cold peprice  eps na  na na wk ra eps na e na namkt cap mm eps na e na nafy target na rank we initiating coverage neurocrine nbix ratingand target lead nbi meaningful portion insomniamarket currently estimated  billion weexpect phase yearneurocrine particularly pipeline company sizethis includes crf antagonists treatment anxietydepression ibd productsnear potential catalysts include announcement phase dataon nbi july corporate partnershipshour eps forecasts  loss  loss  loss loss  focus stocksmcdonalds corpmcd m speiser disappointing interim update reviewold peprice  eps na  na na wk ra eps e e e mkt cap b eps e e e fy target rank the disappointing turnaround delayed however welowered eps forecast primarily due issues forex over maintain rating  ptargetmgmt guided q eps    fullyr allin guidance  lowend view of constant eps guidance flat reduced  forex runrate shr q eps viewto  eps view  forecast  silver linings q constant currency k eps sb improved q forward k  ytd unit growthremains unch q eps trough relatedbeef energy fx salesmaintain rating target target pe  premiumto sp yr ranges q worstvisibility rebound mgmt fuel pefannie maefnm b harting  eps growth year trades eps aold peprice  eps na  na na wk ra eps e e e mkt cap b eps e e e fy target rank we reiterate rating fannie mae target of fnm delivered consecutive doubledigit earnings growth eps estimate represents  growth thisyear yet stock trading epsfannie maes monthly showed purchase commitment volume anexcellent net interest margin creditwe raising eps estimate  eachofheos annual report released june concluded fnmexceeded safety soundness standards everycategory examined risk market riskoperational risk corporate governancewe reiterate strong rating targets freddiemac fre ofheos annual examination andwe company deliver  eps growth currentlytrading epsqualcomm incqcom t luke update q wmodest expectations acold peprice  eps na  na na wk ra eps e e e mkt cap b eps e e e fy target rank following recent sector weakness equip group wethought timely update trends wirelessinnovator qualcomm maintain buywhile market conditions subdued remainsinline wqcoms modest earnings guidance revised postq revs eps q m  achievable qchipsets likely approx period wrangeof m units cywe consider subscriber growth trends cdma markets japan korea trending broadly inline estscatalysts stock include rollouts spinoff expectedseptoct  licensing wnok ala siemens targetcompanyindustry updatesexodus communicationsexds h blount meeting management cold peprice  eps na  na na wk ra eps e e e namkt cap b eps e e e nafy target rank we maintaining rating reducing revenue forecastand targetexds management recognizes challenges progress onmultiple frontswe q conference critical reigniting equityinterest companychurn peaked march trended sequentially however macroenvironment remains challenging therefore arereducing revenue forecast b b targetfrom exds  billion remaining bank linesavailable continue company receivea waiver bank covenantswe previously announced reductions lower capex willallow company positive howeverthe company demonstrating progress qcarnival corpccl market perform kantor expecting downward revisions remainder yearold peprice  eps na  na na wk ra eps e e e mkt cap b eps e e e fy target na narank the economic overhang coupled aggressive capacity buildoutfor leads maintain ourcautious industry wholeccl reports q eps thurs  eps  vs  in linewith street net yield increase given anecdotes pricing weakness caribbean europe webelieve net yield thusour revenue bn vs mm risk ccl meetour eps est though lwr exp ppcdsga interest expensewhile ccls  retreat recent imply aq disappointment factored stock wemaintain downward net yield revisions shares totrade closer july levels implying stockprice cvs corpcvs m adler strong overreaction opportunityold peprice  eps na  na na wk ra eps e e e mkt cap b eps e e e fy target rank friday sellside competitor downgraded lowered estimates cvsbased survey conducted survey wasconducted attempt explain recent deceleration pharmacycomps began march concluded shortageof pharmacy staff epic pharmacy blamecvs countered conclusions weaker flu allergyseasons lack blockbuster introduced lossof managed contract contributed decelerating pharmacy saleswhile acknowledge cvs experiencing labor numberof markets newphenomenon industrywide willcontinue futurethe stock tremendously downgrade believethis reaction view buyingopportunity reiterate strong maintain estimates of q  fydavid c morrissr vp lehman brothersdcmorrislehmancomdisclosure legend alehman inc managed comanaged thepast public offering securities company banemployee lehman inc director company clehmanbrothers inc market securities company gthelehman analyst company itssecuritieskey investment rankings expected priceperformance dividend relative stocks localmarket months expected outperform themarket percentage points buy expected outperformthe market percentage points market perform expected performin market percentage points marketunderperform expected underperform market percentagepoints sell expected underperform market morepercentagepointsthis document purposes only represent thatthis complete accurate opinions tochangethe securities mentioned eligible sale states orcountries document prepared lehman inc membersipc behalf lehman international europe isregulated sfa lehman brothers incthis message intended confidential designated recipients above intended recipient message hereby notified review dissemination distribution copying message strictly prohibited communication purposes regarded solicitation product confirmation transaction statement lehman brothers transmission guaranteed secure errorfree therefore represent complete accurate relied upon such notice mf june th pdf ok mark aything fed you or manner necessary know sherri jeffmark skilling markskillinghotmailcom  pmto tskillingtribunecom tomskilljraolcom skillingcorpenronenron mmishaixnetcomcom mlangermannonesourcecom ermakgtenetcc subject re earthquakeare rightjust line possible electricity out probablyonly powered tops clogging upeverything here far shake thestreets hours else onsolid rock ok constructionhere stones street upper abandoned ablock collapsed debris stereets apparentinjuries however neighborhood unfortunately areas solucky estimate izmit center one hada genertor see praying menreading koran huddled talking themiddle limited ability communicate inneighborhood basic chats ilearned them earthquake whichis depram revolution devrim handya aboutmistook comotion aftershock rattled myself likeafter quake seeded mysubconsciousagain technology amazes battery mayneed itthanks note there ill sendthis family im andworried worrying melovemarkfrom tskillingtribunecomto mark skilling markskillinghotmailcomsubject re earthquakeare rightdate mon aug   mark received earthquake there reports are preliminary reporting timeand buildings collapsed deathsthough they havent many estimated  ive dadclearly mark were concerned youre right meaning hello hvae following emails were lines outso havent this you youre right mark love tomget private if participate katy flatlands sunday july fill attached thursday june im located ebc thankssteph  fyifirstworld announced company projections  quarters resignation ceo sheldon ohringerthe stock trading less  near basis we sold    million ena million warrantskevin gjefftodays editorial revived lockyer quote remarkable and troubling enron lockyers peers rivals taken task outrageous remark newspapers todays editorial conservative refers lockyer boosted rhetoric notch id witness three notchesthis lack criticism foreshadow attitude powerful enron fact blame facts damned enrons high fundraising ties bush administration governor davis war president bush companies could turbulence ahead fasten seatbelts readykevinimage imageimage image image image home  discussions  print edition  archives  map   delivery  advertise  feedback  imageimage image image image image entertainment  movies restaurants image business travel marketplace jobs rentals classifieds image commentary shopping image image image image image image editorials letters oped image image arent desperate payback handheld phones driving dont mix image image image this section      image  daily sections a section image business sports calendar image so cal editorialsletters oped weekly sections health image tech image sunday sections review estate image calendar magazine travel image image image image image image image marketplace rental  merchandise boat plane rv classifieds ad image image image image image image la services subscribe vacation stops suspend delivery  discount mail faq image image image image image image print newspaper weeks image image image print edition orange county valley ventura county community papers image image image image columnists crossword education food health horoscope lottery magazine obituaries reading estate science socal reports sunday tech workplace site map image image image til image image image image image shopping image search products image image image image image image imageimage friday  imageprint image image antics oh behave it comic relief suppliers and wrestlers jerry springer guests state january gov accused private generators legalized robbery threatened seize plants necessary angry them the snakes world week atty gen bill lockyer boosted rhetoric notch declaring personally escort chairman enron corp to by with tattooed says hi spike honey meanwhile president bush vice president cheney blamed causing harebrained deregulation scheme mocked states purchases conservation programs fun now adults bush always differences economies state nation endangered californias situation leaders cooperatively possible week bush president davis bush offering visit bush spokesman ari fleischer president discussing issues start lets is civil civility spreads california abused companies absolutely has  solve shortages  generation next usually targets official public wrath investorowned utilities southern california edison pacific co because in view state utilities bled generators stratospheric prices purchase of generators refused extend edison and pge legal recourse pursued threatening rhetoric needs subside lawmakers house refusing authority reasonable temporary wholesale controls justifiably bush cheney plantsignoring the fact building plants now way wholesale rates washington cap them hadnt power generators would deliver message quietly persuasively bush california bush listen respectfully adult imagesearch archives los angeles similar stories charged stories retrieve one  entertainment movies restaurants  image business travel marketplace jobs rentals classifieds image commentary shopping image image copyright los angeles times software videosdvds stuff w v yf roctober pm am  scheduled outages ardmore data facility operations scheduled outagesazurix scheduled outageseb data facility operations scheduled outagesedi server scheduled outages ees impact eestime   ctsat  pt  ptsun   londonoutage migrate eeshoufs sanenvironments impacted eespurpose cluster server backupsthis performance server redundancy backups complete problemsbackout server offlinebring serverschange users settingscontacts roderic gerlach  enron data facility operations scheduled outagesenron lans impact corptime fri  fri  ctfri  pt fri  ptsat   londonoutage maintenance networkenvironments impacted corppurpose maintenance networkbackout contacts george nguyen  field services scheduled outagesinternet scheduled outagesmessaging impact corp notestime fri   ctfri  pt fri  ptsat   londonoutage cnotes server rebootsenvironments impacted users mailservers listed belowpurpose scheduled intervalbackout server upcontacts trey rhodes     impact eitime fri   ctfri  pt fri  ptsat   londonoutage ei server maintenanceenvironments impacted ei localdomesticforeign sitespurpose scheduled intervalbackout nacontacts david ricafrente impact time fri  fri  ctfri  pt fri  ptsat   londonoutage upgrade xtndenvironments impacted corppurpose properly configuration upgrade production phasebackout configuration settingscontacts edgar gallegos market data scheduled outagesnt scheduled outagesos scheduled outagesother impact hrtime fri  fri  ctfri  pt fri  ptsat   londonoutage reboot hrdbenvironments impacted global applicationspurpose disk databases hrdbbackout contacts brandon bangerter mark calkin raj perubhatla       impact corptime   ctsat  pt  ptsat   londonoutage disk controller maintenance enlighten server frissureenvironments impacted enlightenpurpose repeat controllerbackout role equipment configuration controller offline redundancycontacts malcolm wells    impact enw unixtime fri   ctfri  pt  ptsat  mon  londonoutage largescale migration production data solarenvironments impacted unix users outage midnight sunday am reboot properly unmount solars filesystems sunos clients purpose solar decommissioned fddi network failing netapps performance improvementbackout unmount netapps revert saved automount maps reenable nfs services solar scan netapps migration rdist backcontacts mike croucher adam deridder  carlos uribe  bob mcauliffe    impact corptime   ctsat  pt  ptsat   londonoutage dcaf autofax oracle database server migration upgradeenvironments impacted enapurpose migrate database newer server upgrade database newer version supported oraclebackout tnsnamesora existing database servercontacts alex hsieh  sitara impact sitaracprtime   ctsat  pt  ptsun   londonoutage sitaracrp impact due solar migration environments impacted sitaracpr productionpurpose migration enterprise storage teambackout contacts sitaraoncall cproncall  sunoss system scheduled outagestelephony scheduled outagesterminal server scheduled outagesunify scheduled outagesfor assistance enron resolution centerspecific helpinformation risk management sapisc  unify oncall  pagersitara oncall pagerrusgopsgeotoolsaprs pagerossuatarp pagercpr pageredi support  pagerees desk tds trader decision support oncall  pagerplease attachedplease enronhouston based employees should include ees thanks graciesignature service customer satisfaction wilson learningcome service classes scheduled slots available dateoctober  november  eb cost  am pm st day noon nd daytopics includediscovering opportunities customer satisfactionmanaging myselfopening interactiondetermining expectationsmanaging interactionsatisfying customers comfortable indecisive conditionssatisfying customers insistent irate conditionsplease onto choice listed by invitation category registering questions mr skilling travellingthank you katherine brownalex quiroga alexfirstconfcom  amplease respond alexfirstconfcomto bbatesandrewcom philipfachillescouk clebleualtracom eeveretthesscom bpinieroancapcomuy alkaxshahaccom julieafreemanaccom johnhapqcorg tduhanwebmakercom reliaaribacom stevesidneybakertcom janecarterbgintcom mclenndbpcom salazartrbpcom richardbcbpcom shieldmlbpcom tesfaiabpcom fountatbpcom smithbpcom watsonmsbpcom rosellobpcom rthomasbrinccom rxclarkbrinccom feliperscegcombr seanbartoncentricacom mhinckscheconnecom wepechevroncom fmlochevroncom fernandoamundiciticom alvarodesouzaciticocom bobreedcoastalcorcom ninacameracommecom acarloschesfgovbr cbascurcopeccl igazmuricopeccl klausmailcopelbr viviankobehdellcom pbonillaenapcl agarciaenapcl iriveraendesaes fgarciaendesacl ibfeenersiscl rameenersiscl kennethlayenroncom louisekitchenenroncom johnballentineenroncom jeffskillingenroncom georgewasaffenroncom sserotaexcelergycom abergerexcelergycom josecfromcom paulofurnascombr cochoahpcomcc subject ebusiness latin america  alex quirogafavor necesito informen si estaran asistiendo conferencia enreferencia cual se llevara en isla del julioen caso ser asi favor contactar alex quiroga al o via email alexfirstconfcomgrcs sldsalex  ebusiness latin america urljeffprofessor howard stevenson harvard bus sch entrepreneurship houston th th june discuss study hbs preparing modern giants professor stevenson feature enron requested brief followed available hbs alumnii attached hbs director contacted me summarizes proposed provides professor stevenson enrons participation study available brief professor stevenson lunchin view refresh enron hbs studies dabhol still used reflect business strategy hbs directly availabilityregardsbrian original messagefrom josh merrow mailtojmerrowhbsedu sentwednesday pmtobrianredmondsubjecthoward stevenson houstonbrianit houston timeto overview enron alumni there andwhat to im recruiting foryou yearthank you also group alumni enronduring howard stevensons june howard june th th possible enron thursday juneth june th ideally howard andjeff skilling first followed alumniive attached howards bio electronic version moderngiants proposal promised addition fax hbsalumni enron howard discuss range hbsmatters including modern giants project lunches thesedates work alternative thanks brian ill week butfeel timecheersjosh moder giant propdoc joshua b merrowassoc director developmentharvard business schooldaryl miller at homecoming beta tent crowd far consider homecoming beta incredibleforget betweeneveryone agoyour yahoo jeffjohn blaisdell forwarded photofete ihave attached draft incorporates changes based onconversations thompson knight jennifer binderplease sheet haveadvised drafting process heardback terms acceptable series sheetdocregardsjohn e pricecontrollerwincrest ventures lpemail jepwincrestcom  fax sheetdoctomthakns concern youre questionsthe indication building standing itscontemporaires well thebuildings fell vintage thelowlands neither spoke landlord today engineerof sort building oneabout shots recommended sfthough wasnt planning disasters ourtime im keeping thediseases theyre worried here cirterionis darn close im notim anything thingsup curiositys sake is id waywhich dont do will now restrict alittle observing front damagereally apparent here mentioned dad thingsare darn normal indirect impact visable likeworsening inflation example thats it outfor trouble thoughmore later write tohear youlovemarkfrom tskillingtribunecomto mark skilling markskillinghotmailcomsubject updates healthydate sat aug   mark notes you lives proceeded terror wouldnt begin troubles flung and numerous im authority timeto help full fact building held were helplessly devils we television do knowing dead beneath mounds shattered concrete underscores moms star notiona earlier today relieved obtain food theyresaying spreading wake thisespecially heat thats underway please mark careful accounts events extraordinary id then threatened illness harm aftershocks were about services reporting toll at but add beneath rubble many presumed dead raisednot decaying corpses building the forced outdoors toilets proper sanitation source concern appearing this rival quake  dont you protect spread innoculated mark not anywhere now accounts extraordinary insight the environment preceded followed debacle be mark id healthygiven between whats there satisfied building to food continues also when colderwhere homeless going live doesnt authorities ahandle widespread devastatingat anytimein least news markand take yourself im from distance jeffs offering through enron shipments nowits midnight im double nothing that right youre thoughtsmark love tom reply separatorsubject re homethursday pmauthor mark skilling markskillinghotmailcom internettcodate amtomthanks fro thoughtful notescant normal areas damage itplenty food hoarding delivery trucks bringing innormalloads daily basis before course taxedby demands rescue restoration sufferingwill injured ones lotof suffering be building solidground older ironically safer still spenttwo outside millions othersagain buddy ismail sukran too havebeen friends company nights everyopen building peoplesleeping blankets jackets etc strung thingstrees tie sheets maderelatively cozy spots themselves continues amaze howkind caring turks though onepoor stolen absent mindelymisplaced them everyone though tramatized sad whatyou impact attempts economy hardbyrussian crisis unfortuantely mark turkeyall world itable news dont ofwhat theyre saying still enoughmore later youre me knownot chances werent alreadylovemark from tskillingtribunecom to markskillinghotmailcom subject homethursday cdt date thu aug    mark continue emails reports the earthquke disaster there heading night im concerned andwondering youve daredor allowedback apartmentnews reports indicate outsideand being encouraged goverment fears buildings been weakened succomb powerful afterschocks reportedly kandilli observatory reported aftershocks today thursday reports were toll with injured un buried feared dead experts saved disaster like saved hoursits hoursas you decomposing is sections countrys hardest cities that spreading disease ordered marines navy sailorsin step rescue efforts were something countriesincluding israel germany france britain and japan dispatching rescue teams equipment wiresand television reports covering us rescuers heading late emails the damage but building is shake endured adequet electrical regular and reliable cant relieved receive thequick communication night wed worried sick wellbeing clearly reports hardest areasso normal the wake quake expressed newshere masses homeless disaster be housed seasonwhich isnt awayi notation recent economic movestermed fairly severe reportsby government there inflation inoportune time disaster hit youre right urgingcare quake sfo the other disaster earthquake concerns in vulnerable parts news turkey quake led cable installed building cnn servicesincluding cnn internationalso im what you cnn there posted youre doing we emails date you mark  tom get private get private']"
      ]
     },
     "execution_count": 67,
     "metadata": {},
     "output_type": "execute_result"
    }
   ],
   "source": [
    "testing_corpus[13]"
   ]
  },
  {
   "cell_type": "code",
   "execution_count": 68,
   "metadata": {
    "collapsed": true
   },
   "outputs": [],
   "source": [
    "new_email = [testing_corpus[13]]"
   ]
  },
  {
   "cell_type": "code",
   "execution_count": 69,
   "metadata": {
    "collapsed": false
   },
   "outputs": [],
   "source": [
    "new = tf.transform([content for file, content in new_email])"
   ]
  },
  {
   "cell_type": "code",
   "execution_count": 70,
   "metadata": {
    "collapsed": true
   },
   "outputs": [],
   "source": [
    "def find_similar(tfidf_matrix, new_movie, top_n = 1000):\n",
    "    cosine_similarities = linear_kernel(new_movie, tfidf_matrix).flatten()\n",
    "    related_docs_indices = [i for i in cosine_similarities.argsort()[::-1]]\n",
    "    return [(index, cosine_similarities[index]) for index in related_docs_indices][0:top_n]"
   ]
  },
  {
   "cell_type": "code",
   "execution_count": 71,
   "metadata": {
    "collapsed": false
   },
   "outputs": [
    {
     "data": {
      "text/html": [
       "<div>\n",
       "<style>\n",
       "    .dataframe thead tr:only-child th {\n",
       "        text-align: right;\n",
       "    }\n",
       "\n",
       "    .dataframe thead th {\n",
       "        text-align: left;\n",
       "    }\n",
       "\n",
       "    .dataframe tbody tr th {\n",
       "        vertical-align: top;\n",
       "    }\n",
       "</style>\n",
       "<table border=\"1\" class=\"dataframe\">\n",
       "  <thead>\n",
       "    <tr style=\"text-align: right;\">\n",
       "      <th></th>\n",
       "      <th>person</th>\n",
       "      <th>similarity_score</th>\n",
       "    </tr>\n",
       "  </thead>\n",
       "  <tbody>\n",
       "    <tr>\n",
       "      <th>0</th>\n",
       "      <td>haedicke-m</td>\n",
       "      <td>0.798018</td>\n",
       "    </tr>\n",
       "    <tr>\n",
       "      <th>1</th>\n",
       "      <td>wolfe-j</td>\n",
       "      <td>0.776214</td>\n",
       "    </tr>\n",
       "    <tr>\n",
       "      <th>2</th>\n",
       "      <td>beck-s</td>\n",
       "      <td>0.770811</td>\n",
       "    </tr>\n",
       "    <tr>\n",
       "      <th>3</th>\n",
       "      <td>kean-s</td>\n",
       "      <td>0.747146</td>\n",
       "    </tr>\n",
       "    <tr>\n",
       "      <th>4</th>\n",
       "      <td>lay-k</td>\n",
       "      <td>0.741670</td>\n",
       "    </tr>\n",
       "  </tbody>\n",
       "</table>\n",
       "</div>"
      ],
      "text/plain": [
       "       person  similarity_score\n",
       "0  haedicke-m          0.798018\n",
       "1     wolfe-j          0.776214\n",
       "2      beck-s          0.770811\n",
       "3      kean-s          0.747146\n",
       "4       lay-k          0.741670"
      ]
     },
     "execution_count": 71,
     "metadata": {},
     "output_type": "execute_result"
    }
   ],
   "source": [
    "similarity = pd.DataFrame()\n",
    "for index, score in find_similar(tfidf_matrix, new):\n",
    "    similarity = similarity.append(pd.DataFrame({'similarity_score':score, 'person':training_corpus[index][0]}, index=[0]), ignore_index=True)\n",
    "similarity.head()"
   ]
  },
  {
   "cell_type": "markdown",
   "metadata": {},
   "source": [
    "http://www.foxnews.com/story/2004/07/08/fast-facts-key-enron-players.html"
   ]
  },
  {
   "cell_type": "code",
   "execution_count": null,
   "metadata": {
    "collapsed": true
   },
   "outputs": [],
   "source": []
  }
 ],
 "metadata": {
  "kernelspec": {
   "display_name": "Python 3",
   "language": "python",
   "name": "python3"
  },
  "language_info": {
   "codemirror_mode": {
    "name": "ipython",
    "version": 3
   },
   "file_extension": ".py",
   "mimetype": "text/x-python",
   "name": "python",
   "nbconvert_exporter": "python",
   "pygments_lexer": "ipython3",
   "version": "3.6.0"
  }
 },
 "nbformat": 4,
 "nbformat_minor": 2
}
