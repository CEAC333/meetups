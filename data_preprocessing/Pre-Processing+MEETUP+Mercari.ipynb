{
 "cells": [
  {
   "cell_type": "markdown",
   "metadata": {},
   "source": [
    "<img src=\"https://www.mercari.com/assets/img/help_center/us/ogp.png\"/>\n",
    "\n",
    "# Mercari Price Suggestion Challenge\n",
    "***\n",
    "### Can you automatically suggest product prices to online sellers?"
   ]
  },
  {
   "cell_type": "markdown",
   "metadata": {},
   "source": [
    "**Product pricing gets even harder at scale**, considering just how many products are sold online. Clothing has strong seasonal pricing trends and is heavily influenced by brand names, while electronics have fluctuating prices based on product specs.\n",
    "\n",
    "**Mercari**, Japan’s biggest community-powered shopping app, knows this problem deeply. They’d like to offer pricing suggestions to sellers, but this is tough because their sellers are enabled to put just about anything, or any bundle of things, on Mercari's marketplace.\n",
    "\n",
    "In this competition, Mercari’s challenging you to **build an algorithm that automatically suggests the right product prices**. You’ll be provided user-inputted text descriptions of their products, including details like product category name, brand name, and item condition.\n",
    "\n",
    "### Dataset Features\n",
    "\n",
    "- **ID**: the id of the listing\n",
    "- **Name:** the title of the listing\n",
    "- **Item Condition:** the condition of the items provided by the seller\n",
    "- **Category Name:** category of the listing\n",
    "- **Brand Name:** brand of the listing\n",
    "- **Shipping:** whether or not shipping cost was provided\n",
    "- **Item Description:** the full description of the item\n",
    "- **Price:** the price that the item was sold for. This is the target variable that you will predict. The unit is USD.\n",
    "\n",
    "**Work on supply and demand**\n",
    "\n",
    "**Source:** https://www.kaggle.com/c/mercari-price-suggestion-challenge"
   ]
  },
  {
   "cell_type": "markdown",
   "metadata": {},
   "source": [
    "<img src = \"https://cdn.dribbble.com/users/56196/screenshots/2281553/mobile-dribbble.gif\"/>"
   ]
  },
  {
   "cell_type": "markdown",
   "metadata": {},
   "source": [
    "# Representing and Mining Text\n",
    "***\n",
    "Since, text is the most **unstructured** form of all the available data, various types of noise are present in it and the data is not readily analyzable without any pre-processing. The entire process of cleaning and standardization of text, making it noise-free and ready for analysis is known as **text pre-processing**.\n",
    "\n",
    "### Fundamental Concepts \n",
    "\n",
    "The importance of constructing mining-friendly data representations; Representation of text for data mining. \n",
    "\n",
    "### Important Terminologies\n",
    "- **Document**: One piece of text. It could be a single sentence, a paragraph, or even a full page report. \n",
    "- **Tokens**: Also known as terms. It is simply just a word. So many tokens form a document. \n",
    "- **Corpus**: A collection of documents. \n",
    "- **Term Frequency (TF)**: Measures how often a term is in a single document\n",
    "- **Inverse Document Frequency (IDF)**: distribution of a term over a corpus\n",
    "\n",
    "### Pre-Processing Techniques\n",
    "- **Stop Word Removal:** stop words are terms that have little no meaning in a given text. Think of it as the \"noise\" of data. Such terms include the words, \"the\", \"a\", \"an\", \"to\", and etc...\n",
    "- **Bag of Words Representation: ** treats each word as a feature of the document\n",
    "\n",
    "- **TFIDF**: a common value representation of terms. It boosts or weighs words that have low occurences. For example, if the word \"play\" is common, then there is little to no boost. But if the word \"mercari\" is rare, then it has more boosts/weight. \n",
    "\n",
    "- **N-grams**: Sequences of adjacent words as terms. For example, since a word by itself may have little to no value, but if you were to put two words together and analyze it as a pair, then it might add more meaning. \n",
    "\n",
    "- **Stemming and Lemmatization**:\n",
    "\n",
    "- **Named Entity Extraction**: A pre-processing technique used to know  when word sequences constitute proper names. Example, \"HP\", \"H-P\", and \"Hewlett-Packard\" all represent the Hewlett-Packard Corporation.\n",
    "\n",
    "- **Topic Models**: A type of model that represents a set of topics from a sequence of words. \n",
    "\n",
    "\n",
    "- **Normalization**\n",
    "- **Standardization**\n",
    "- **OneHotEncoding**\n",
    "- **LabelEncoding**\n",
    "\n",
    "- **Categorical V.S. Ordinal Pre-Processing**\n",
    "\n",
    "<img src=\"http://www.des1gnon.com/wp-content/uploads/2017/02/Des1gn-ON-Tendencias-no-Design-em-2017-icones-03.gif\"/>"
   ]
  },
  {
   "cell_type": "markdown",
   "metadata": {},
   "source": [
    "# Others\n",
    "- Data Imputation\n",
    "- PCA\n",
    "- Fill_NA\n",
    "- Binning\n",
    "- Normalizing words (lower case)"
   ]
  },
  {
   "cell_type": "markdown",
   "metadata": {},
   "source": [
    "# Data Munging Tasks\n",
    "- Renaming Variables\n",
    "- Data Type Conversion\n",
    "- Encoding, Decoding, recoding data (Qualitative -> Quantitative)\n",
    "- Merging datasets\n",
    "- Transforming Dataset\n",
    "- Imputation\n",
    "- Handling anomlies (Plot price scatter plot. Look for any outliers and see if we should take them out) Deleting outliers will bring normality to our dataset. But first, find the outliers and see why they have such high prices. What description or factors or brand causes the outliers to deviate from the rest? We can possibly create new features for this\n",
    "- Winsorization: Processing of clpping. We can clip certain price ranges and exclude outliers such as 1st to 99th percentile. Then create a feature called below or above 99 percentile?"
   ]
  },
  {
   "cell_type": "code",
   "execution_count": null,
   "metadata": {
    "collapsed": true
   },
   "outputs": [],
   "source": []
  }
 ],
 "metadata": {
  "kernelspec": {
   "display_name": "Python [default]",
   "language": "python",
   "name": "python3"
  },
  "language_info": {
   "codemirror_mode": {
    "name": "ipython",
    "version": 3
   },
   "file_extension": ".py",
   "mimetype": "text/x-python",
   "name": "python",
   "nbconvert_exporter": "python",
   "pygments_lexer": "ipython3",
   "version": "3.6.0"
  }
 },
 "nbformat": 4,
 "nbformat_minor": 2
}
